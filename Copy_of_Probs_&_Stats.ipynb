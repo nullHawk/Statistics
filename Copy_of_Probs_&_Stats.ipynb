{
  "nbformat": 4,
  "nbformat_minor": 0,
  "metadata": {
    "colab": {
      "provenance": [],
      "include_colab_link": true
    },
    "kernelspec": {
      "name": "python3",
      "display_name": "Python 3"
    },
    "language_info": {
      "name": "python"
    }
  },
  "cells": [
    {
      "cell_type": "markdown",
      "metadata": {
        "id": "view-in-github",
        "colab_type": "text"
      },
      "source": [
        "<a href=\"https://colab.research.google.com/github/nullHawk/Statistics/blob/main/Copy_of_Probs_%26_Stats.ipynb\" target=\"_parent\"><img src=\"https://colab.research.google.com/assets/colab-badge.svg\" alt=\"Open In Colab\"/></a>"
      ]
    },
    {
      "cell_type": "markdown",
      "source": [
        "Some info\n",
        "\n",
        "`norm.cdf(z)`: takes z-value as input and returns the cumulative probability from the left to that point.\n",
        "\n",
        "`norm.ppf(p)`: takes the probability as input and returns the exact z-score of that corresponding probability.\n"
      ],
      "metadata": {
        "id": "BDvCAR2nCJ4U"
      }
    },
    {
      "cell_type": "markdown",
      "source": [
        "# CLT and Estimation\n",
        "\n",
        "\n",
        "\n",
        "---\n",
        "\n"
      ],
      "metadata": {
        "id": "GDJeD0J0traV"
      }
    },
    {
      "cell_type": "markdown",
      "source": [
        "## Central Limit Theorem\n",
        "\n",
        "When a large enough sample is taken from a population, the distribution of the sample means will be approximately normal.\n",
        "\n",
        "Assumptions:\n",
        "- samples should be random\n",
        "- samples should be independent\n",
        "- sample size >= 30\n",
        "\n"
      ],
      "metadata": {
        "id": "alK3HvdItxtg"
      }
    },
    {
      "cell_type": "markdown",
      "source": [
        "## Point Estimation\n",
        "\n",
        "If we want to estimate a single value of the population parameters, then\n",
        "\n",
        "Population mean ($μ$): Sample mean($ \\bar x $)\n",
        "\n",
        "Population standard variance ($σ$):  "
      ],
      "metadata": {
        "id": "m8MvataLuyYE"
      }
    },
    {
      "cell_type": "markdown",
      "source": [
        "## Interval Estimation\n",
        "\n",
        "Interval Estimate for Mean\n",
        "\n",
        "\n",
        "\n",
        "$$\\bar x - z_{α/2} * stderr < μ < \\bar x + z_{α/2} * stderr$$\n",
        "\n",
        "where,\n",
        "$\\alpha = 1 - confidence\\ level$\n",
        "\n",
        "$z_{\\alpha /2} = z\\_value\\ of\\ probability\\ \\ α/2 = norm.ppf(1 - α/2)$\n",
        "\n",
        "$stderr = \\frac{σ}{\\sqrt n}$"
      ],
      "metadata": {
        "id": "1PkjvjycxfUS"
      }
    },
    {
      "cell_type": "code",
      "source": [
        "import scipy.stats as stats\n",
        "import numpy as np\n",
        "from scipy.stats import norm\n",
        "\n",
        "# Given data\n",
        "population_mean = 4.0\n",
        "sample_mean = 4.5\n",
        "population_stddev = 1.2\n",
        "sample_size = 100\n",
        "alpha = 0.05  # Significance level (1 - alpha will give us the confidence level)\n",
        "\n",
        "# Calculate the critical value (Z) for a two-tailed test at the given alpha level\n",
        "z_critical = norm.ppf(1 - alpha / 2)\n",
        "\n",
        "# Calculate the margin of error\n",
        "margin_of_error = z_critical * (population_stddev / np.sqrt(sample_size))\n",
        "\n",
        "# Calculate the confidence interval\n",
        "confidence_interval = (sample_mean - margin_of_error, sample_mean + margin_of_error)\n",
        "print(\"Confidence Interval:\", confidence_interval)"
      ],
      "metadata": {
        "colab": {
          "base_uri": "https://localhost:8080/"
        },
        "id": "6ZaY4HUnyhmy",
        "outputId": "0fe21eda-fcaf-4f59-9e7d-4936370ca977"
      },
      "execution_count": null,
      "outputs": [
        {
          "output_type": "stream",
          "name": "stdout",
          "text": [
            "Confidence Interval: (4.264804321855194, 4.735195678144806)\n"
          ]
        }
      ]
    },
    {
      "cell_type": "markdown",
      "source": [
        "#Hypothesis Testing\n",
        "\n",
        "\n",
        "---\n",
        "\n"
      ],
      "metadata": {
        "id": "_kTXHsPHeaM4"
      }
    },
    {
      "cell_type": "markdown",
      "source": [
        "## Null & Alternate Hypothesis\n",
        "H0: The null hypothesis: It is a statement about the population that either is believed to be true or is used to put forth an argument unless it can be shown to be incorrect beyond a reasonable doubt.\n",
        "\n",
        "H1: The alternative hypothesis: It is a claim about the population that is contradictory to H0 and what we conclude when we reject H0.\n",
        "\n",
        "Read More: https://courses.lumenlearning.com/introstats1/chapter/null-and-alternative-hypotheses/"
      ],
      "metadata": {
        "id": "oFaSh8Q9eg8w"
      }
    },
    {
      "cell_type": "markdown",
      "source": [
        "\n",
        "## Types of Errors\n",
        "\n",
        "`Type-I error` : False-Positive\n",
        "\n",
        "When $H_0$ is concluded to be false but is actually true.\n",
        "\n",
        "`Type-II error`: True-Negative\n",
        "\n",
        "When $H_0$ is concluded to be true but is actually false.\n",
        "\n",
        "```\n",
        "--------------------------------------------------------------\n",
        "|          Actual          |   Positive(T)  |   Negative(F)  |\n",
        "|------------------------------------------------------------|\n",
        "|                 |  True  |    No error    |  Type 2 error  |\n",
        "|  Predicted (H0) |--------|---------------------------------|\n",
        "|                 |  False |  Type 1 error  |    No error    |\n",
        "--------------------------------------------------------------\n",
        "\n",
        "```\n",
        "\n"
      ],
      "metadata": {
        "id": "ntQjZ6DVqDIS"
      }
    },
    {
      "cell_type": "markdown",
      "source": [
        "##Common Algorithm\n",
        "- Set up Null & Alternate Hypothesis\n",
        "- Choose the distribution\n",
        "    - Several Proportions : $\\chi^2$ Distribution (chi-square test)\n",
        "    - $n<30$ : T Distribution (t-test)\n",
        "    - $n>=30$ : Gaussian/Normal Distribution (z-test)\n",
        "- Select the type of test as per $H_1$\n",
        "    - != : two tailed test\n",
        "    - \\> : right tailed test\n",
        "    - <  : left tailed test\n",
        "- Compute the test statistic and p-value\n",
        "- Compare the p-value with significance level $(\\alpha)$ and accept/reject the $H_0$"
      ],
      "metadata": {
        "id": "UTzWfkIahcve"
      }
    },
    {
      "cell_type": "markdown",
      "source": [
        "##Test for Means"
      ],
      "metadata": {
        "id": "HVFXvFYthPiF"
      }
    },
    {
      "cell_type": "markdown",
      "source": [
        "### One Mean Test\n",
        "Test where only one mean value is involved.\n",
        "\n",
        "$H_0$: $μ$ = $μ_0$ or $μ$ <= $μ_0$ or $μ$ >= $μ_0$\n",
        "\n",
        "$H_1$: $μ$ != $μ_0$ or $μ$ > $μ_0$ or $μ$ < $μ_0$\n",
        "\n",
        "\n",
        "\n"
      ],
      "metadata": {
        "id": "nB7RjA4vhV12"
      }
    },
    {
      "cell_type": "markdown",
      "source": [
        "#### Test statistic: (Gaussian/Normal Distribution)\n",
        "$$Z = \\frac{\\bar x - μ_0}{σ/\\sqrt{n}}$$"
      ],
      "metadata": {
        "id": "xaw88UWlyRIr"
      }
    },
    {
      "cell_type": "markdown",
      "source": [
        "Manual Code"
      ],
      "metadata": {
        "id": "Eh4u-QhqpwxS"
      }
    },
    {
      "cell_type": "code",
      "source": [
        "import numpy as np\n",
        "from scipy.stats import norm"
      ],
      "metadata": {
        "id": "0EQhyhgxeZwc"
      },
      "execution_count": null,
      "outputs": []
    },
    {
      "cell_type": "code",
      "execution_count": null,
      "metadata": {
        "colab": {
          "base_uri": "https://localhost:8080/"
        },
        "id": "AF4u2iUgeYdq",
        "outputId": "6406e550-2cd3-4f19-c22e-936d6d406260"
      },
      "outputs": [
        {
          "output_type": "execute_result",
          "data": {
            "text/plain": [
              "(-0.8944271909999159, 0.18554668476134878)"
            ]
          },
          "metadata": {},
          "execution_count": 3
        }
      ],
      "source": [
        "sample_mean = 64.5\n",
        "h0_mean = 65\n",
        "std = 2.5\n",
        "sample_size = 20\n",
        "\n",
        "z = (sample_mean - h0_mean)/(std/np.sqrt(sample_size))\n",
        "\n",
        "# for right tailed test\n",
        "# p_val = 1 - norm.cdf(z)\n",
        "\n",
        "# for left tailed test\n",
        "p_val = norm.cdf(z)\n",
        "\n",
        "# for two tailed test\n",
        "# p_val = (2*norm.cdf(z) if z<0 else 2*(1 - norm.cdf(z)))\n",
        "\n",
        "z, p_val"
      ]
    },
    {
      "cell_type": "code",
      "source": [
        "alpha = 0.05\n",
        "\n",
        "if p_val < alpha:\n",
        "  print(\"Reject the null hypothesis\")\n",
        "else:\n",
        "  print(\"Fail to reject the null hypothesis\")"
      ],
      "metadata": {
        "colab": {
          "base_uri": "https://localhost:8080/"
        },
        "id": "4DKCwVgFnlnF",
        "outputId": "6fbfccdd-5158-498c-bb05-94a470d34f1e"
      },
      "execution_count": null,
      "outputs": [
        {
          "output_type": "stream",
          "name": "stdout",
          "text": [
            "Fail to reject the null hypothesis\n"
          ]
        }
      ]
    },
    {
      "cell_type": "markdown",
      "source": [
        "Using Modules"
      ],
      "metadata": {
        "id": "RTJBnkHWpz_l"
      }
    },
    {
      "cell_type": "code",
      "source": [
        "from statsmodels.stats import weightstats as tests\n",
        "\n",
        "sample_data = []\n",
        "h0_mean = 1800\n",
        "\n",
        "# alternative\n",
        "# two-sided: two tailed test\n",
        "# larger: right tailed test\n",
        "# smaller: left tailed test\n",
        "z_score, pval = tests.ztest(x1 = sample_data, value = h0_mean, alternative = 'two-sided')\n",
        "z_score, pval"
      ],
      "metadata": {
        "id": "1gl5Q1Z8ph0K"
      },
      "execution_count": null,
      "outputs": []
    },
    {
      "cell_type": "code",
      "source": [
        "alpha = 0.05\n",
        "\n",
        "if pval < alpha:\n",
        "  print(\"Reject the null hypothesis\")\n",
        "else:\n",
        "  print(\"Fail to reject the null hypothesis\")"
      ],
      "metadata": {
        "id": "_yucnQL_tbnw"
      },
      "execution_count": null,
      "outputs": []
    },
    {
      "cell_type": "markdown",
      "source": [
        "####Test statistic: (T Distribution)"
      ],
      "metadata": {
        "id": "0xj7Hx1YAB7K"
      }
    },
    {
      "cell_type": "markdown",
      "source": [
        "Using Modules"
      ],
      "metadata": {
        "id": "2I557WHZAOJP"
      }
    },
    {
      "cell_type": "code",
      "source": [
        "from scipy.stats import ttest_1samp\n",
        "\n",
        "data =  [193, 321, 222, 158, 176, 149, 154, 223, 233, 177, 280, 244, 138, 210, 167, 129, 254, 167, 194, 191, 128, 191, 144, 184, 330, 216, 212, 142, 216, 197, 231, 133, 205, 192, 195, 243, 224, 137, 234, 171, 176, 249, 222, 234, 191]\n",
        "h0_mean = 190\n",
        "\n",
        "# h0: u<=190\n",
        "# ha: u>190\n",
        "\n",
        "# alternative\n",
        "# two-sided: two tailed test\n",
        "# less: left tailed test\n",
        "# greater: right tailed test\n",
        "t_score, p_val = ttest_1samp(data, h0_mean, alternative='greater')\n",
        "t_score, p_val"
      ],
      "metadata": {
        "id": "s_aXT559AP16",
        "colab": {
          "base_uri": "https://localhost:8080/"
        },
        "outputId": "6db3e4be-2726-4ed8-a879-e476c703b459"
      },
      "execution_count": null,
      "outputs": [
        {
          "output_type": "execute_result",
          "data": {
            "text/plain": [
              "(1.3689029903414232, 0.08898891556150607)"
            ]
          },
          "metadata": {},
          "execution_count": 1
        }
      ]
    },
    {
      "cell_type": "code",
      "source": [
        "# alpha 00.01 is very rare\n",
        "alpha = 0.01\n",
        "\n",
        "if p_val < alpha:\n",
        "  print(\"Reject the null hypothesis\")\n",
        "else:\n",
        "  print(\"Fail to reject the null hypothesis\")"
      ],
      "metadata": {
        "id": "_HrwyiKxAnXp"
      },
      "execution_count": null,
      "outputs": []
    },
    {
      "cell_type": "markdown",
      "source": [
        "### Two Mean Test\n",
        "Test where two mean values are involved.\n",
        "\n",
        "$H_0$: $μ_1 - μ_2$ = $μ_0$ or $μ_1 - μ_2$ <= $μ_0$ or $μ_1 - μ_2$ >= $μ_0$\n",
        "\n",
        "$H_1$: $μ_1 - μ_2$ != $μ_0$ or $μ_1 - μ_2$ > $μ_0$ or $μ_1 - μ_2$ < $μ_0$"
      ],
      "metadata": {
        "id": "78105jucyakw"
      }
    },
    {
      "cell_type": "markdown",
      "source": [
        "#### Test statistic: (Gaussian/Normal Distribution)\n",
        "$$Z = \\frac{\\bar x_1 - \\bar x_2 - μ_0}{\\sqrt{σ_1^2/n_1 + σ_2^2/n_2}}$$"
      ],
      "metadata": {
        "id": "WbYEUlxazNgn"
      }
    },
    {
      "cell_type": "markdown",
      "source": [
        "Manual Code"
      ],
      "metadata": {
        "id": "jy_D6b77Zeef"
      }
    },
    {
      "cell_type": "code",
      "source": [
        "sample_mean_1 = 2.87\n",
        "sample_size_1 = 150\n",
        "sample_std_1 = 1.08\n",
        "\n",
        "sample_mean_2 = 2.56\n",
        "sample_size_2 = 200\n",
        "sample_std_2 = 1.28\n",
        "\n",
        "# H0 : mean1 - mean2 = 0\n",
        "# H1 : mean1 - mean2 > 0\n",
        "h0_mean_diff = 0\n",
        "\n",
        "z = (sample_mean_1 - sample_mean_2 - h0_mean_diff)/ np.sqrt( (sample_std_1**2)/sample_size_1 + (sample_std_2**2)/sample_size_2 )\n",
        "\n",
        "# for right tailed test\n",
        "p_val = 1 - norm.cdf(z)\n",
        "\n",
        "# for left tailed test\n",
        "# p_val = norm.cdf(z)\n",
        "\n",
        "# for two tailed test\n",
        "# p_val = (2*norm.cdf(z) if z<0 else 2*(1 - norm.cdf(z)))\n",
        "\n",
        "z, p_val"
      ],
      "metadata": {
        "colab": {
          "base_uri": "https://localhost:8080/"
        },
        "id": "ls51rICFYLse",
        "outputId": "0bf0b6c9-061e-403d-8adc-f7204e4f1a79"
      },
      "execution_count": null,
      "outputs": [
        {
          "output_type": "execute_result",
          "data": {
            "text/plain": [
              "(2.453219634102559, 0.007079193063952549)"
            ]
          },
          "metadata": {},
          "execution_count": 7
        }
      ]
    },
    {
      "cell_type": "markdown",
      "source": [
        "Using Modules"
      ],
      "metadata": {
        "id": "ORomCJy5z7tr"
      }
    },
    {
      "cell_type": "code",
      "source": [
        "from statsmodels.stats import weightstats as tests\n",
        "\n",
        "sample_data1 = []\n",
        "sample_data2 = []\n",
        "h0_mean_diff = 0\n",
        "\n",
        "# alternative\n",
        "# two sided: two tailed test\n",
        "# larger: right tailed test\n",
        "# smaller: left tailed test\n",
        "z_score, pval = tests.ztest(x1 = sample_data1, x2 = sample_data2, value = h0_mean_diff, alternative = 'two-sided')\n",
        "z_score, pval"
      ],
      "metadata": {
        "id": "RHjSjegBzTuX"
      },
      "execution_count": null,
      "outputs": []
    },
    {
      "cell_type": "markdown",
      "source": [
        "#### Test statistic: (T Distribution) (Independent)"
      ],
      "metadata": {
        "id": "DPaIqks6_3V6"
      }
    },
    {
      "cell_type": "markdown",
      "source": [
        "Using Modules"
      ],
      "metadata": {
        "id": "RycunwftE9zj"
      }
    },
    {
      "cell_type": "code",
      "source": [
        "from scipy.stats import ttest_ind\n",
        "\n",
        "sample_data1 = []\n",
        "sample_data2 = []\n",
        "h0_mean_diff = 0\n",
        "\n",
        "# alternative\n",
        "# two-sided: two tailed test\n",
        "# less: left tailed test\n",
        "# greater: right tailed test\n",
        "t_score, p_value = ttest_ind(sample_data1, sample_data2, alternative='two-sided')\n",
        "t_score, p_value"
      ],
      "metadata": {
        "id": "ovvPEGgNByqe"
      },
      "execution_count": null,
      "outputs": []
    },
    {
      "cell_type": "code",
      "source": [
        "alpha = 0.05\n",
        "\n",
        "if p_val < alpha:\n",
        "  print(\"Reject the null hypothesis\")\n",
        "else:\n",
        "  print(\"Fail to reject the null hypothesis\")"
      ],
      "metadata": {
        "id": "TNtVz0tsE6LF"
      },
      "execution_count": null,
      "outputs": []
    },
    {
      "cell_type": "markdown",
      "source": [
        "#### Test statistic: (T Distribution) (Dependent)\n",
        "used for before-after cases, when both of our sample is from the same population. used to analyse the effect of something in the same population."
      ],
      "metadata": {
        "id": "lsMNAW52GT5L"
      }
    },
    {
      "cell_type": "markdown",
      "source": [
        "Using Modules"
      ],
      "metadata": {
        "id": "XvsTUBSdGT5S"
      }
    },
    {
      "cell_type": "code",
      "source": [
        "from scipy.stats import ttest_rel\n",
        "\n",
        "sample_data1 = []\n",
        "sample_data2 = []\n",
        "h0_mean_diff = 0\n",
        "\n",
        "# alternative\n",
        "# two-sided: two tailed test\n",
        "# less: left tailed test\n",
        "# greater: right tailed test\n",
        "t_score, p_value = ttest_rel(sample_data1, sample_data2, alternative='two-sided')\n",
        "t_score, p_value"
      ],
      "metadata": {
        "id": "14YtnP_vGT5S"
      },
      "execution_count": null,
      "outputs": []
    },
    {
      "cell_type": "code",
      "source": [
        "alpha = 0.05\n",
        "\n",
        "if p_val < alpha:\n",
        "  print(\"Reject the null hypothesis\")\n",
        "else:\n",
        "  print(\"Fail to reject the null hypothesis\")"
      ],
      "metadata": {
        "id": "wDuQr3mNGT5S"
      },
      "execution_count": null,
      "outputs": []
    },
    {
      "cell_type": "markdown",
      "source": [
        "## Test for Proportions"
      ],
      "metadata": {
        "id": "XmnPQNNRIQ0r"
      }
    },
    {
      "cell_type": "markdown",
      "source": [
        "### One Proportion Test\n",
        "Test where one proportion value is involved.\n",
        "\n",
        "$H_0$: $p$ = $p_0$ or $p$ <= $p_0$ or $p$ >= $p_0$\n",
        "\n",
        "$H_1$: $p$ != $p_0$ or $p$ > $p_0$ or $p$ < $p_0$"
      ],
      "metadata": {
        "id": "DTxiGASQ1H2e"
      }
    },
    {
      "cell_type": "markdown",
      "source": [
        "#### Test statistic: (Gaussian/Normal Distribution)\n",
        "\n",
        "$$Z = \\frac{\\hat p - p_0}{\\sqrt{\\frac{\\hat p (1 - \\hat p)}{n}}}$$"
      ],
      "metadata": {
        "id": "AKnM3Gs03Dj8"
      }
    },
    {
      "cell_type": "markdown",
      "source": [
        "Manual Code"
      ],
      "metadata": {
        "id": "GHGmq8TP5Kbo"
      }
    },
    {
      "cell_type": "code",
      "source": [
        "import numpy as np\n",
        "from scipy.stats import norm\n",
        "\n",
        "sample_prop = 20\n",
        "sample_size = 50\n",
        "h0_prop = 0.5\n",
        "\n",
        "p_hat = sample_prop / sample_size\n",
        "\n",
        "z = (p_hat - h0_prop) / np.sqrt( (p_hat*(1 - p_hat))/sample_size )\n",
        "\n",
        "# for right tailed test\n",
        "# p_val = 1 - norm.cdf(z)\n",
        "\n",
        "# for left tailed test\n",
        "# p_val = norm.cdf(z)\n",
        "\n",
        "# for two tailed test\n",
        "p_val = (2*norm.cdf(z) if z<0 else 2*(1 - norm.cdf(z)))\n",
        "\n",
        "z, p_val"
      ],
      "metadata": {
        "colab": {
          "base_uri": "https://localhost:8080/"
        },
        "id": "2nvkiqbB370Y",
        "outputId": "a6b23339-fc9e-4b1d-d378-3315685ebb8e"
      },
      "execution_count": null,
      "outputs": [
        {
          "output_type": "execute_result",
          "data": {
            "text/plain": [
              "(-1.443375672974064, 0.07445733658938289)"
            ]
          },
          "metadata": {},
          "execution_count": 8
        }
      ]
    },
    {
      "cell_type": "code",
      "source": [
        "alpha = 0.05\n",
        "\n",
        "if p_val < alpha:\n",
        "  print(\"Reject the null hypothesis\")\n",
        "else:\n",
        "  print(\"Fail to reject the null hypothesis\")"
      ],
      "metadata": {
        "colab": {
          "base_uri": "https://localhost:8080/"
        },
        "id": "RcBajMUc5JuG",
        "outputId": "a123bdb7-ab6d-43e0-ebf0-cd01d800beca"
      },
      "execution_count": null,
      "outputs": [
        {
          "output_type": "stream",
          "name": "stdout",
          "text": [
            "Fail to reject the null hypothesis\n"
          ]
        }
      ]
    },
    {
      "cell_type": "markdown",
      "source": [
        "Using Modules"
      ],
      "metadata": {
        "id": "YO2ol4eK6Oai"
      }
    },
    {
      "cell_type": "code",
      "source": [
        "from statsmodels.stats import proportion as prop_tests\n",
        "\n",
        "sample_prop = 50\n",
        "sample_size = 100\n",
        "h0_prop = 0.5\n",
        "\n",
        "# alternative\n",
        "# two-sided: two tailed test\n",
        "# larger: right tailed test\n",
        "# smaller: left tailed test\n",
        "z_score, pval = prop_tests.proportions_ztest(count = sample_prop, nobs = sample_size, value = h0_prop, alternative = 'two-sided')\n",
        "z_score, pval"
      ],
      "metadata": {
        "id": "crZrB5wS6UQO"
      },
      "execution_count": null,
      "outputs": []
    },
    {
      "cell_type": "code",
      "source": [
        "alpha = 0.05\n",
        "\n",
        "if pval < alpha:\n",
        "  print(\"Reject the null hypothesis\")\n",
        "else:\n",
        "  print(\"Fail to reject the null hypothesis\")"
      ],
      "metadata": {
        "id": "fAhoBc6uGtJv"
      },
      "execution_count": null,
      "outputs": []
    },
    {
      "cell_type": "markdown",
      "source": [
        "### Two Proportion Test\n",
        "\n",
        "Test where two proportion values are involved.\n",
        "\n",
        "$H_0$: $p_1 - p_2$ = $p_0$ or $p_1 - p_2$ <= $p_0$ or $p_1 - p_2$ >= $p_0$\n",
        "\n",
        "$H_1$: $p_1 - p_2$ != $p_0$ or $p_1 - p_2$ > $p_0$ or $p_1 - p_2$ < $p_0$"
      ],
      "metadata": {
        "id": "MIW4SXnj8Aaa"
      }
    },
    {
      "cell_type": "markdown",
      "source": [
        "#### Test statistic: (Gaussian/Normal Distribution)\n",
        "\n",
        "$$Z = \\frac{\\hat p_1 - \\hat p_2 - p_0}{\\sqrt{\\bar p (1 - \\bar p) (1/n_1 + 1/n_2)}}$$\n",
        "\n",
        "where,\n",
        "\n",
        "$$ \\bar p = \\frac{n_1 \\hat p_1 + n_2 \\hat p_2}{n_1 + n_2}$$"
      ],
      "metadata": {
        "id": "eZ5JPzoc9H3Y"
      }
    },
    {
      "cell_type": "markdown",
      "source": [
        "Using Modules"
      ],
      "metadata": {
        "id": "DBqe-45mFO0M"
      }
    },
    {
      "cell_type": "code",
      "source": [
        "from statsmodels.stats import proportion as prop_tests\n",
        "\n",
        "sample_prop1 = 50\n",
        "sample_size1 = 100\n",
        "sample_prop1 = 70\n",
        "sample_size1 = 130\n",
        "\n",
        "h0_prop_diff = 0\n",
        "\n",
        "# alternative\n",
        "# two-sided: two tailed test\n",
        "# larger: right tailed test\n",
        "# smaller: left tailed test\n",
        "z_score, pval = prop_tests.proportions_ztest(count = [sample_prop1, sample_prop2], nobs = [sample_size1, sample_size2], value = h0_prop_diff, alternative = 'two-sided')\n",
        "z_score, pval"
      ],
      "metadata": {
        "id": "3wxZ7bXjDbuE"
      },
      "execution_count": null,
      "outputs": []
    },
    {
      "cell_type": "code",
      "source": [
        "alpha = 0.05\n",
        "\n",
        "if pval < alpha:\n",
        "  print(\"Reject the null hypothesis\")\n",
        "else:\n",
        "  print(\"Fail to reject the null hypothesis\")"
      ],
      "metadata": {
        "id": "X5il42EEGwSC"
      },
      "execution_count": null,
      "outputs": []
    },
    {
      "cell_type": "markdown",
      "source": [
        "### Several Proportion Test\n",
        "\n",
        "Test where two proportion values are involved."
      ],
      "metadata": {
        "id": "MOQzVT5qPnrG"
      }
    },
    {
      "cell_type": "markdown",
      "source": [
        "#### Test statistic: (Chi-square Distribution) (Goodness of Fit)\n",
        "\n",
        "$$χ^2 = \\frac{Σ(Observed_{i} - Expected_{i})^2}{(Expected)}$$"
      ],
      "metadata": {
        "id": "6RBGtGlmQGsq"
      }
    },
    {
      "cell_type": "markdown",
      "source": [
        "Manual Code"
      ],
      "metadata": {
        "id": "8aJWKVdrCf6t"
      }
    },
    {
      "cell_type": "code",
      "source": [
        "from scipy.stats import chi2\n",
        "\n",
        "observed = [22, 28]\n",
        "sum_observed = sum(observed)\n",
        "# here i am assuming equal possible proportions for all. if the proportions are given different in question, do them accordingly\n",
        "expected = [sum_observed/len(observed)] * len(observed)\n",
        "\n",
        "chi_sq_score = sum([(i[0]-i[1])**2/i[1] for i in zip(observed, expected)])\n",
        "p_val = 1 - chi2.cdf(chi_sq_score, df=len(observed)-1)\n",
        "chi_sq_score, p_val"
      ],
      "metadata": {
        "colab": {
          "base_uri": "https://localhost:8080/"
        },
        "id": "iZWtVY2ACiye",
        "outputId": "ae843acd-96c0-4699-b92f-fc941c28e60c"
      },
      "execution_count": null,
      "outputs": [
        {
          "output_type": "execute_result",
          "data": {
            "text/plain": [
              "(0.72, 0.3961439091520741)"
            ]
          },
          "metadata": {},
          "execution_count": 3
        }
      ]
    },
    {
      "cell_type": "code",
      "source": [
        "alpha = 0.05\n",
        "\n",
        "if pval < alpha:\n",
        "  print(\"Reject the null hypothesis\")\n",
        "else:\n",
        "  print(\"Fail to reject the null hypothesis\")"
      ],
      "metadata": {
        "id": "tdCzCnmVGChI"
      },
      "execution_count": null,
      "outputs": []
    },
    {
      "cell_type": "markdown",
      "source": [
        "Using Modules"
      ],
      "metadata": {
        "id": "XFCtAymGCjqG"
      }
    },
    {
      "cell_type": "code",
      "source": [
        "from scipy.stats import chisquare\n",
        "\n",
        "observed = [22, 28]\n",
        "sum_observed = sum(observed)\n",
        "# here i am assuming equal possible proportions for all. if the proportions are given different in question, do them accordingly\n",
        "expected = [sum_observed/len(observed)] * len(observed)\n",
        "\n",
        "chi_stat, p_value = chisquare(f_obs = observed, f_exp = expected)\n",
        "chi_stat, p_value"
      ],
      "metadata": {
        "colab": {
          "base_uri": "https://localhost:8080/"
        },
        "id": "JpBSOgH_GinF",
        "outputId": "5e069506-2602-4574-8fda-c3701bd4413b"
      },
      "execution_count": null,
      "outputs": [
        {
          "output_type": "execute_result",
          "data": {
            "text/plain": [
              "(0.72, 0.3961439091520741)"
            ]
          },
          "metadata": {},
          "execution_count": 4
        }
      ]
    },
    {
      "cell_type": "code",
      "source": [
        "alpha = 0.05\n",
        "\n",
        "if p_value < alpha:\n",
        "  print(\"Reject the null hypothesis\")\n",
        "else:\n",
        "  print(\"Fail to reject the null hypothesis\")"
      ],
      "metadata": {
        "id": "qVUDjW89GyGQ"
      },
      "execution_count": null,
      "outputs": []
    },
    {
      "cell_type": "markdown",
      "source": [
        "#### Test statistic: (Chi-square Distribution) (Test for Independence)"
      ],
      "metadata": {
        "id": "dJeVVy5RCA9b"
      }
    },
    {
      "cell_type": "markdown",
      "source": [
        "Using Modules"
      ],
      "metadata": {
        "id": "XzKDcdIQI53D"
      }
    },
    {
      "cell_type": "code",
      "source": [
        "from scipy.stats import chi2_contingency\n",
        "\n",
        "observed = [[527, 72],\n",
        "            [206, 102]]\n",
        "\n",
        "chi_stat, p_value, df, exp_freq = chi2_contingency(observed)\n",
        "chi_stat, p_value"
      ],
      "metadata": {
        "colab": {
          "base_uri": "https://localhost:8080/"
        },
        "id": "Ra1cJEucI8wW",
        "outputId": "bb1360cf-1edd-4969-a6a2-505c03593e34"
      },
      "execution_count": null,
      "outputs": [
        {
          "output_type": "execute_result",
          "data": {
            "text/plain": [
              "(57.04098674049609, 4.268230756875865e-14)"
            ]
          },
          "metadata": {},
          "execution_count": 5
        }
      ]
    },
    {
      "cell_type": "code",
      "source": [
        "alpha = 0.05\n",
        "\n",
        "if p_value < alpha:\n",
        "  print(\"Reject the null hypothesis\")\n",
        "else:\n",
        "  print(\"Fail to reject the null hypothesis\")"
      ],
      "metadata": {
        "colab": {
          "base_uri": "https://localhost:8080/"
        },
        "id": "JQ9zqFkmKB9q",
        "outputId": "cf33acb5-a561-4f2e-d0c3-08b1803645b2"
      },
      "execution_count": null,
      "outputs": [
        {
          "output_type": "stream",
          "name": "stdout",
          "text": [
            "Reject the null hypothesis\n"
          ]
        }
      ]
    },
    {
      "cell_type": "markdown",
      "source": [
        "## Analysis of Variance (ANOVA)"
      ],
      "metadata": {
        "id": "vI3GJwr8zzOQ"
      }
    },
    {
      "cell_type": "markdown",
      "source": [
        "ANOVA is used when there are more than two categories for which we need to analyse numeric values (several means)\n",
        "\n",
        "ANOVA folows the f-distribution\n",
        "\n",
        "Assumptions of ANNOVA:\n",
        "- Data should be Gaussian\n",
        "- Data is independent of each other\n",
        "- Equal Variances in different group"
      ],
      "metadata": {
        "id": "NoB8GVhW0AtO"
      }
    },
    {
      "cell_type": "markdown",
      "source": [
        "Using Modules"
      ],
      "metadata": {
        "id": "4wHGLiburKry"
      }
    },
    {
      "cell_type": "code",
      "source": [
        "import numpy as np\n",
        "import pandas as pd\n",
        "\n",
        "# keep your data here\n",
        "data = {\"categorical\" : [ \"x\",  \"y\",  \"z\",  \"y\",  \"z\",  \"y\",  \"y\"],\n",
        "        \"numerical\"   : [1203, 1238, 1839, 2739, 3903, 3740, 8303]}\n",
        "\n",
        "df = pd.DataFrame(data)\n",
        "df"
      ],
      "metadata": {
        "colab": {
          "base_uri": "https://localhost:8080/",
          "height": 269
        },
        "id": "6hMcSvAXD-n8",
        "outputId": "2e259a22-916f-4736-8c79-8c195ede4159"
      },
      "execution_count": null,
      "outputs": [
        {
          "output_type": "execute_result",
          "data": {
            "text/plain": [
              "  categorical  numerical\n",
              "0           x       1203\n",
              "1           y       1238\n",
              "2           z       1839\n",
              "3           y       2739\n",
              "4           z       3903\n",
              "5           y       3740\n",
              "6           y       8303"
            ],
            "text/html": [
              "\n",
              "  <div id=\"df-81b30955-f8dd-404c-936f-3904e91127a0\" class=\"colab-df-container\">\n",
              "    <div>\n",
              "<style scoped>\n",
              "    .dataframe tbody tr th:only-of-type {\n",
              "        vertical-align: middle;\n",
              "    }\n",
              "\n",
              "    .dataframe tbody tr th {\n",
              "        vertical-align: top;\n",
              "    }\n",
              "\n",
              "    .dataframe thead th {\n",
              "        text-align: right;\n",
              "    }\n",
              "</style>\n",
              "<table border=\"1\" class=\"dataframe\">\n",
              "  <thead>\n",
              "    <tr style=\"text-align: right;\">\n",
              "      <th></th>\n",
              "      <th>categorical</th>\n",
              "      <th>numerical</th>\n",
              "    </tr>\n",
              "  </thead>\n",
              "  <tbody>\n",
              "    <tr>\n",
              "      <th>0</th>\n",
              "      <td>x</td>\n",
              "      <td>1203</td>\n",
              "    </tr>\n",
              "    <tr>\n",
              "      <th>1</th>\n",
              "      <td>y</td>\n",
              "      <td>1238</td>\n",
              "    </tr>\n",
              "    <tr>\n",
              "      <th>2</th>\n",
              "      <td>z</td>\n",
              "      <td>1839</td>\n",
              "    </tr>\n",
              "    <tr>\n",
              "      <th>3</th>\n",
              "      <td>y</td>\n",
              "      <td>2739</td>\n",
              "    </tr>\n",
              "    <tr>\n",
              "      <th>4</th>\n",
              "      <td>z</td>\n",
              "      <td>3903</td>\n",
              "    </tr>\n",
              "    <tr>\n",
              "      <th>5</th>\n",
              "      <td>y</td>\n",
              "      <td>3740</td>\n",
              "    </tr>\n",
              "    <tr>\n",
              "      <th>6</th>\n",
              "      <td>y</td>\n",
              "      <td>8303</td>\n",
              "    </tr>\n",
              "  </tbody>\n",
              "</table>\n",
              "</div>\n",
              "    <div class=\"colab-df-buttons\">\n",
              "\n",
              "  <div class=\"colab-df-container\">\n",
              "    <button class=\"colab-df-convert\" onclick=\"convertToInteractive('df-81b30955-f8dd-404c-936f-3904e91127a0')\"\n",
              "            title=\"Convert this dataframe to an interactive table.\"\n",
              "            style=\"display:none;\">\n",
              "\n",
              "  <svg xmlns=\"http://www.w3.org/2000/svg\" height=\"24px\" viewBox=\"0 -960 960 960\">\n",
              "    <path d=\"M120-120v-720h720v720H120Zm60-500h600v-160H180v160Zm220 220h160v-160H400v160Zm0 220h160v-160H400v160ZM180-400h160v-160H180v160Zm440 0h160v-160H620v160ZM180-180h160v-160H180v160Zm440 0h160v-160H620v160Z\"/>\n",
              "  </svg>\n",
              "    </button>\n",
              "\n",
              "  <style>\n",
              "    .colab-df-container {\n",
              "      display:flex;\n",
              "      gap: 12px;\n",
              "    }\n",
              "\n",
              "    .colab-df-convert {\n",
              "      background-color: #E8F0FE;\n",
              "      border: none;\n",
              "      border-radius: 50%;\n",
              "      cursor: pointer;\n",
              "      display: none;\n",
              "      fill: #1967D2;\n",
              "      height: 32px;\n",
              "      padding: 0 0 0 0;\n",
              "      width: 32px;\n",
              "    }\n",
              "\n",
              "    .colab-df-convert:hover {\n",
              "      background-color: #E2EBFA;\n",
              "      box-shadow: 0px 1px 2px rgba(60, 64, 67, 0.3), 0px 1px 3px 1px rgba(60, 64, 67, 0.15);\n",
              "      fill: #174EA6;\n",
              "    }\n",
              "\n",
              "    .colab-df-buttons div {\n",
              "      margin-bottom: 4px;\n",
              "    }\n",
              "\n",
              "    [theme=dark] .colab-df-convert {\n",
              "      background-color: #3B4455;\n",
              "      fill: #D2E3FC;\n",
              "    }\n",
              "\n",
              "    [theme=dark] .colab-df-convert:hover {\n",
              "      background-color: #434B5C;\n",
              "      box-shadow: 0px 1px 3px 1px rgba(0, 0, 0, 0.15);\n",
              "      filter: drop-shadow(0px 1px 2px rgba(0, 0, 0, 0.3));\n",
              "      fill: #FFFFFF;\n",
              "    }\n",
              "  </style>\n",
              "\n",
              "    <script>\n",
              "      const buttonEl =\n",
              "        document.querySelector('#df-81b30955-f8dd-404c-936f-3904e91127a0 button.colab-df-convert');\n",
              "      buttonEl.style.display =\n",
              "        google.colab.kernel.accessAllowed ? 'block' : 'none';\n",
              "\n",
              "      async function convertToInteractive(key) {\n",
              "        const element = document.querySelector('#df-81b30955-f8dd-404c-936f-3904e91127a0');\n",
              "        const dataTable =\n",
              "          await google.colab.kernel.invokeFunction('convertToInteractive',\n",
              "                                                    [key], {});\n",
              "        if (!dataTable) return;\n",
              "\n",
              "        const docLinkHtml = 'Like what you see? Visit the ' +\n",
              "          '<a target=\"_blank\" href=https://colab.research.google.com/notebooks/data_table.ipynb>data table notebook</a>'\n",
              "          + ' to learn more about interactive tables.';\n",
              "        element.innerHTML = '';\n",
              "        dataTable['output_type'] = 'display_data';\n",
              "        await google.colab.output.renderOutput(dataTable, element);\n",
              "        const docLink = document.createElement('div');\n",
              "        docLink.innerHTML = docLinkHtml;\n",
              "        element.appendChild(docLink);\n",
              "      }\n",
              "    </script>\n",
              "  </div>\n",
              "\n",
              "\n",
              "<div id=\"df-1b81ecdf-a494-4248-a422-a3361ff391c5\">\n",
              "  <button class=\"colab-df-quickchart\" onclick=\"quickchart('df-1b81ecdf-a494-4248-a422-a3361ff391c5')\"\n",
              "            title=\"Suggest charts\"\n",
              "            style=\"display:none;\">\n",
              "\n",
              "<svg xmlns=\"http://www.w3.org/2000/svg\" height=\"24px\"viewBox=\"0 0 24 24\"\n",
              "     width=\"24px\">\n",
              "    <g>\n",
              "        <path d=\"M19 3H5c-1.1 0-2 .9-2 2v14c0 1.1.9 2 2 2h14c1.1 0 2-.9 2-2V5c0-1.1-.9-2-2-2zM9 17H7v-7h2v7zm4 0h-2V7h2v10zm4 0h-2v-4h2v4z\"/>\n",
              "    </g>\n",
              "</svg>\n",
              "  </button>\n",
              "\n",
              "<style>\n",
              "  .colab-df-quickchart {\n",
              "      --bg-color: #E8F0FE;\n",
              "      --fill-color: #1967D2;\n",
              "      --hover-bg-color: #E2EBFA;\n",
              "      --hover-fill-color: #174EA6;\n",
              "      --disabled-fill-color: #AAA;\n",
              "      --disabled-bg-color: #DDD;\n",
              "  }\n",
              "\n",
              "  [theme=dark] .colab-df-quickchart {\n",
              "      --bg-color: #3B4455;\n",
              "      --fill-color: #D2E3FC;\n",
              "      --hover-bg-color: #434B5C;\n",
              "      --hover-fill-color: #FFFFFF;\n",
              "      --disabled-bg-color: #3B4455;\n",
              "      --disabled-fill-color: #666;\n",
              "  }\n",
              "\n",
              "  .colab-df-quickchart {\n",
              "    background-color: var(--bg-color);\n",
              "    border: none;\n",
              "    border-radius: 50%;\n",
              "    cursor: pointer;\n",
              "    display: none;\n",
              "    fill: var(--fill-color);\n",
              "    height: 32px;\n",
              "    padding: 0;\n",
              "    width: 32px;\n",
              "  }\n",
              "\n",
              "  .colab-df-quickchart:hover {\n",
              "    background-color: var(--hover-bg-color);\n",
              "    box-shadow: 0 1px 2px rgba(60, 64, 67, 0.3), 0 1px 3px 1px rgba(60, 64, 67, 0.15);\n",
              "    fill: var(--button-hover-fill-color);\n",
              "  }\n",
              "\n",
              "  .colab-df-quickchart-complete:disabled,\n",
              "  .colab-df-quickchart-complete:disabled:hover {\n",
              "    background-color: var(--disabled-bg-color);\n",
              "    fill: var(--disabled-fill-color);\n",
              "    box-shadow: none;\n",
              "  }\n",
              "\n",
              "  .colab-df-spinner {\n",
              "    border: 2px solid var(--fill-color);\n",
              "    border-color: transparent;\n",
              "    border-bottom-color: var(--fill-color);\n",
              "    animation:\n",
              "      spin 1s steps(1) infinite;\n",
              "  }\n",
              "\n",
              "  @keyframes spin {\n",
              "    0% {\n",
              "      border-color: transparent;\n",
              "      border-bottom-color: var(--fill-color);\n",
              "      border-left-color: var(--fill-color);\n",
              "    }\n",
              "    20% {\n",
              "      border-color: transparent;\n",
              "      border-left-color: var(--fill-color);\n",
              "      border-top-color: var(--fill-color);\n",
              "    }\n",
              "    30% {\n",
              "      border-color: transparent;\n",
              "      border-left-color: var(--fill-color);\n",
              "      border-top-color: var(--fill-color);\n",
              "      border-right-color: var(--fill-color);\n",
              "    }\n",
              "    40% {\n",
              "      border-color: transparent;\n",
              "      border-right-color: var(--fill-color);\n",
              "      border-top-color: var(--fill-color);\n",
              "    }\n",
              "    60% {\n",
              "      border-color: transparent;\n",
              "      border-right-color: var(--fill-color);\n",
              "    }\n",
              "    80% {\n",
              "      border-color: transparent;\n",
              "      border-right-color: var(--fill-color);\n",
              "      border-bottom-color: var(--fill-color);\n",
              "    }\n",
              "    90% {\n",
              "      border-color: transparent;\n",
              "      border-bottom-color: var(--fill-color);\n",
              "    }\n",
              "  }\n",
              "</style>\n",
              "\n",
              "  <script>\n",
              "    async function quickchart(key) {\n",
              "      const quickchartButtonEl =\n",
              "        document.querySelector('#' + key + ' button');\n",
              "      quickchartButtonEl.disabled = true;  // To prevent multiple clicks.\n",
              "      quickchartButtonEl.classList.add('colab-df-spinner');\n",
              "      try {\n",
              "        const charts = await google.colab.kernel.invokeFunction(\n",
              "            'suggestCharts', [key], {});\n",
              "      } catch (error) {\n",
              "        console.error('Error during call to suggestCharts:', error);\n",
              "      }\n",
              "      quickchartButtonEl.classList.remove('colab-df-spinner');\n",
              "      quickchartButtonEl.classList.add('colab-df-quickchart-complete');\n",
              "    }\n",
              "    (() => {\n",
              "      let quickchartButtonEl =\n",
              "        document.querySelector('#df-1b81ecdf-a494-4248-a422-a3361ff391c5 button');\n",
              "      quickchartButtonEl.style.display =\n",
              "        google.colab.kernel.accessAllowed ? 'block' : 'none';\n",
              "    })();\n",
              "  </script>\n",
              "</div>\n",
              "\n",
              "  <div id=\"id_015942c6-7db4-431f-b72f-7c8dfa27f589\">\n",
              "    <style>\n",
              "      .colab-df-generate {\n",
              "        background-color: #E8F0FE;\n",
              "        border: none;\n",
              "        border-radius: 50%;\n",
              "        cursor: pointer;\n",
              "        display: none;\n",
              "        fill: #1967D2;\n",
              "        height: 32px;\n",
              "        padding: 0 0 0 0;\n",
              "        width: 32px;\n",
              "      }\n",
              "\n",
              "      .colab-df-generate:hover {\n",
              "        background-color: #E2EBFA;\n",
              "        box-shadow: 0px 1px 2px rgba(60, 64, 67, 0.3), 0px 1px 3px 1px rgba(60, 64, 67, 0.15);\n",
              "        fill: #174EA6;\n",
              "      }\n",
              "\n",
              "      [theme=dark] .colab-df-generate {\n",
              "        background-color: #3B4455;\n",
              "        fill: #D2E3FC;\n",
              "      }\n",
              "\n",
              "      [theme=dark] .colab-df-generate:hover {\n",
              "        background-color: #434B5C;\n",
              "        box-shadow: 0px 1px 3px 1px rgba(0, 0, 0, 0.15);\n",
              "        filter: drop-shadow(0px 1px 2px rgba(0, 0, 0, 0.3));\n",
              "        fill: #FFFFFF;\n",
              "      }\n",
              "    </style>\n",
              "    <button class=\"colab-df-generate\" onclick=\"generateWithVariable('df')\"\n",
              "            title=\"Generate code using this dataframe.\"\n",
              "            style=\"display:none;\">\n",
              "\n",
              "  <svg xmlns=\"http://www.w3.org/2000/svg\" height=\"24px\"viewBox=\"0 0 24 24\"\n",
              "       width=\"24px\">\n",
              "    <path d=\"M7,19H8.4L18.45,9,17,7.55,7,17.6ZM5,21V16.75L18.45,3.32a2,2,0,0,1,2.83,0l1.4,1.43a1.91,1.91,0,0,1,.58,1.4,1.91,1.91,0,0,1-.58,1.4L9.25,21ZM18.45,9,17,7.55Zm-12,3A5.31,5.31,0,0,0,4.9,8.1,5.31,5.31,0,0,0,1,6.5,5.31,5.31,0,0,0,4.9,4.9,5.31,5.31,0,0,0,6.5,1,5.31,5.31,0,0,0,8.1,4.9,5.31,5.31,0,0,0,12,6.5,5.46,5.46,0,0,0,6.5,12Z\"/>\n",
              "  </svg>\n",
              "    </button>\n",
              "    <script>\n",
              "      (() => {\n",
              "      const buttonEl =\n",
              "        document.querySelector('#id_015942c6-7db4-431f-b72f-7c8dfa27f589 button.colab-df-generate');\n",
              "      buttonEl.style.display =\n",
              "        google.colab.kernel.accessAllowed ? 'block' : 'none';\n",
              "\n",
              "      buttonEl.onclick = () => {\n",
              "        google.colab.notebook.generateWithVariable('df');\n",
              "      }\n",
              "      })();\n",
              "    </script>\n",
              "  </div>\n",
              "\n",
              "    </div>\n",
              "  </div>\n"
            ],
            "application/vnd.google.colaboratory.intrinsic+json": {
              "type": "dataframe",
              "variable_name": "df",
              "summary": "{\n  \"name\": \"df\",\n  \"rows\": 7,\n  \"fields\": [\n    {\n      \"column\": \"categorical\",\n      \"properties\": {\n        \"dtype\": \"category\",\n        \"num_unique_values\": 3,\n        \"samples\": [\n          \"x\",\n          \"y\",\n          \"z\"\n        ],\n        \"semantic_type\": \"\",\n        \"description\": \"\"\n      }\n    },\n    {\n      \"column\": \"numerical\",\n      \"properties\": {\n        \"dtype\": \"number\",\n        \"std\": 2472,\n        \"min\": 1203,\n        \"max\": 8303,\n        \"num_unique_values\": 7,\n        \"samples\": [\n          1203,\n          1238,\n          3740\n        ],\n        \"semantic_type\": \"\",\n        \"description\": \"\"\n      }\n    }\n  ]\n}"
            }
          },
          "metadata": {},
          "execution_count": 11
        }
      ]
    },
    {
      "cell_type": "code",
      "source": [
        "from scipy.stats import f_oneway\n",
        "\n",
        "f_stat, p_val = f_oneway(df[df[\"categorical\"] == \"x\"][\"numerical\"], df[df[\"categorical\"] == \"y\"][\"numerical\"], df[df[\"categorical\"] == \"z\"][\"numerical\"])\n",
        "f_stat, p_val"
      ],
      "metadata": {
        "colab": {
          "base_uri": "https://localhost:8080/"
        },
        "id": "Th5jRUOjnMyZ",
        "outputId": "47b23b42-131e-48ae-91cd-d705fa9cc16f"
      },
      "execution_count": null,
      "outputs": [
        {
          "output_type": "execute_result",
          "data": {
            "text/plain": [
              "(0.4510864567885584, 0.6657983747431078)"
            ]
          },
          "metadata": {},
          "execution_count": 17
        }
      ]
    },
    {
      "cell_type": "code",
      "source": [
        "alpha = 0.05\n",
        "\n",
        "if p_val < alpha:\n",
        "    print(\"Reject H0\")\n",
        "else:\n",
        "    print(\"Fail to reject H0\")"
      ],
      "metadata": {
        "colab": {
          "base_uri": "https://localhost:8080/"
        },
        "id": "_ONdZR3rqgKu",
        "outputId": "f2fcd768-e227-40da-e929-3904012ad52c"
      },
      "execution_count": null,
      "outputs": [
        {
          "output_type": "stream",
          "name": "stdout",
          "text": [
            "Fail to reject H0\n"
          ]
        }
      ]
    },
    {
      "cell_type": "markdown",
      "source": [
        "## Kruskal - Walis Test\n",
        "\n"
      ],
      "metadata": {
        "id": "z9McrTZ-EEtG"
      }
    },
    {
      "cell_type": "markdown",
      "source": [
        "It is performed when the assumptions for ANNOVA are not met. It is a test based on medians. It follows h-distribution.\n",
        "\n",
        "Many a times the difference between ANNOVA p-value and Kruskal-Walis p-value coincides."
      ],
      "metadata": {
        "id": "U9URKde0o2Rd"
      }
    },
    {
      "cell_type": "code",
      "source": [
        "import numpy as np\n",
        "import pandas as pd\n",
        "\n",
        "# keep your data here\n",
        "data = {\"categorical\" : [ \"x\",  \"y\",  \"z\",  \"y\",  \"z\",  \"y\",  \"y\"],\n",
        "        \"numerical\"   : [1203, 1238, 1839, 2739, 3903, 3740, 8303]}\n",
        "\n",
        "df = pd.DataFrame(data)\n",
        "df"
      ],
      "metadata": {
        "id": "uZ3sTLxzEkJR"
      },
      "execution_count": null,
      "outputs": []
    },
    {
      "cell_type": "code",
      "source": [
        "from scipy.stats import kruskal\n",
        "\n",
        "stat, p_val = kruskal(df[df[\"categorical\"] == \"x\"][\"numerical\"], df[df[\"categorical\"] == \"y\"][\"numerical\"], df[df[\"categorical\"] == \"z\"][\"numerical\"])\n",
        "stat, p_val"
      ],
      "metadata": {
        "id": "rXR8F40zEVvo"
      },
      "execution_count": null,
      "outputs": []
    },
    {
      "cell_type": "markdown",
      "source": [
        "## Test for Normality"
      ],
      "metadata": {
        "id": "fO--6qwq36ej"
      }
    },
    {
      "cell_type": "markdown",
      "source": [
        "### Quantile-Quantile (QQ) Plots\n",
        "\n",
        "QQ-Plots are a graphical way to see that if a data is normal or not. The more it is aligned to the diagonal line, the more normal it is.\n",
        "\n",
        "\n",
        "\n"
      ],
      "metadata": {
        "id": "vP2N2xvl39rp"
      }
    },
    {
      "cell_type": "markdown",
      "source": [
        "![image.png](data:image/png;base64,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)\n",
        "\n",
        "This plot shows that the sample data is normally distributed."
      ],
      "metadata": {
        "id": "1S-0dLOU7REQ"
      }
    },
    {
      "cell_type": "markdown",
      "source": [
        "![image.png](data:image/png;base64,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)\n",
        "\n",
        "This graph shows that the data is not normal for the taken samples."
      ],
      "metadata": {
        "id": "CiOT6TJ77I3g"
      }
    },
    {
      "cell_type": "code",
      "source": [
        "from statsmodels.graphics.gofplots import qqplot\n",
        "import matplotlib.pyplot as plt\n",
        "\n",
        "data = []\n",
        "qqplot(data)\n",
        "plt.show()"
      ],
      "metadata": {
        "id": "ddCLceHb79to"
      },
      "execution_count": null,
      "outputs": []
    },
    {
      "cell_type": "markdown",
      "source": [
        "### Shapiro-Wilk Test\n",
        "\n"
      ],
      "metadata": {
        "id": "_z7lq8yo7smu"
      }
    },
    {
      "cell_type": "markdown",
      "source": [
        "Hypothesis test to check if a data is normal or not.\n",
        "\n",
        "$H_0$: Data is not gaussian/normal\n",
        "\n",
        "$H_1$: Data is gaussian/normal"
      ],
      "metadata": {
        "id": "OAHmuIfUAaCv"
      }
    },
    {
      "cell_type": "code",
      "source": [
        "from scipy.stats import shapiro\n",
        "\n",
        "data = []\n",
        "test_stat, p_value = shapiro(data)\n",
        "test_stat, p_value"
      ],
      "metadata": {
        "id": "UvGwovp4AwqC"
      },
      "execution_count": null,
      "outputs": []
    },
    {
      "cell_type": "code",
      "source": [
        "alpha = 0.05\n",
        "\n",
        "if p_value < alpha:\n",
        "    print(\"Reject H0\")\n",
        "    print(\"Data is Gaussian\")\n",
        "else:\n",
        "    print(\"Fail to reject H0\")"
      ],
      "metadata": {
        "id": "4GPQARiiA-4Q"
      },
      "execution_count": null,
      "outputs": []
    },
    {
      "cell_type": "markdown",
      "source": [
        "# Correlation\n",
        "---"
      ],
      "metadata": {
        "id": "yNuzRmtEC-Uj"
      }
    },
    {
      "cell_type": "markdown",
      "source": [
        "For checking relation between\n",
        "- Numerical v/s Categorical (2 categories)\n",
        "    - 2 sample z-test/t-test\n",
        "- Numerical v/s Categorical (more than 2 categories)\n",
        "    - ANNOVA/Kruskal-Walis\n",
        "- Categorical v/s Categorical\n",
        "    - Chi-square test\n",
        "- Numerical v/s Numerical\n",
        "    - Correlation"
      ],
      "metadata": {
        "id": "zIIvGzYzD-QM"
      }
    },
    {
      "cell_type": "markdown",
      "source": [
        "### Covariance\n",
        "\n",
        "Used to understand whether two numerical variables are related or not.\n",
        "\n",
        "$$cov(x, y) = \\frac{Σ (x_i - \\bar x) (y_i - \\bar y)}{n-1}$$"
      ],
      "metadata": {
        "id": "4SAbFe7VLaGr"
      }
    },
    {
      "cell_type": "code",
      "source": [
        "import numpy as np\n",
        "import pandas as pd\n",
        "\n",
        "# always takes the data in transpose form (in the shape (2, n))\n",
        "# outputs a 2x2 contigency table\n",
        "#             num 1              num 2\n",
        "# num 1     var(num 1)     cov(num 1, num 2)\n",
        "# num 2 cov(num 1, num 2)      var(num 1)\n",
        "\n",
        "np.cov(df[\"numerical1\", \"numerical2\"].T)"
      ],
      "metadata": {
        "id": "S2h6lMX_MZtE"
      },
      "execution_count": null,
      "outputs": []
    },
    {
      "cell_type": "markdown",
      "source": [
        "### Pearson Correlation Coefficient\n",
        "\n"
      ],
      "metadata": {
        "id": "Gdunz4pZOHao"
      }
    },
    {
      "cell_type": "markdown",
      "source": [
        "Used to determine how strongly the variables are correlated.\n",
        "Ranges from -1 to 1, -1 being strongly negatively correlated and 1 being strongly positively correlated. Only works for linear relation.\n",
        "\n",
        "\n",
        "$$ ρ(x,y) = \\frac{cov(x, y)}{\\sigma_x \\sigma_y}$$\n",
        "\n",
        "or,\n",
        "\n",
        "$$ ρ(x,y) = \\frac{Σ (x_i - \\bar x) (y_i - \\bar y)}{\\sqrt {\\Sigma (x_i - \\bar x)^2 (y_i - \\bar y)^2} }$$"
      ],
      "metadata": {
        "id": "uxgK_8lqf6Ow"
      }
    },
    {
      "cell_type": "code",
      "source": [
        "import numpy as np\n",
        "import pandas as pd\n",
        "\n",
        "# always takes the data in transpose form (in the shape (2, n))\n",
        "# outputs a 2x2 table\n",
        "#             num 1              num 2\n",
        "# num 1         1          rho(num 1, num 2)\n",
        "# num 2 rho(num 1, num 2)          1\n",
        "\n",
        "np.corrcoef(df[\"numerical1\", \"numerical2\"].T)"
      ],
      "metadata": {
        "id": "B6pC7WyiQmbc"
      },
      "execution_count": null,
      "outputs": []
    },
    {
      "cell_type": "code",
      "source": [
        "from scipy.stats import pearsonr\n",
        "# H0: No correlation\n",
        "# Ha: There is correlation\n",
        "pearsonr(df[\"numerical1\"], df[\"numerical2\"])"
      ],
      "metadata": {
        "id": "YlT1sLxLTVXW"
      },
      "execution_count": null,
      "outputs": []
    },
    {
      "cell_type": "code",
      "source": [
        "# default method is pearson\n",
        "df[\"numerical1\", \"numerical2\"].corr()"
      ],
      "metadata": {
        "id": "-r7m07HWUd1c"
      },
      "execution_count": null,
      "outputs": []
    },
    {
      "cell_type": "markdown",
      "source": [
        "### Spearman Rank Correlation Coefiicient\n",
        "\n"
      ],
      "metadata": {
        "id": "PZSIqgekdu_z"
      }
    },
    {
      "cell_type": "markdown",
      "source": [
        "Correlation for non-linear relations.\n",
        "We sort the values and assign ranks to the data.\n",
        "Then we find the pearson correlation coefficient for ranks of x and y.\n",
        "If the relation between the two numerical variables are monotonically increasing/decreasing, then we would get a high +ve or -ve value.\n",
        "\n",
        "For linear relations, SPCC is almost equal to PCC."
      ],
      "metadata": {
        "id": "TlPVh3AhgDD0"
      }
    },
    {
      "cell_type": "code",
      "source": [
        "df[\"numerical1\", \"numerical2\"].corr(method=\"spearman\")"
      ],
      "metadata": {
        "id": "S9QgMh-ufk-S"
      },
      "execution_count": null,
      "outputs": []
    },
    {
      "cell_type": "markdown",
      "source": [
        "### Heatmap\n"
      ],
      "metadata": {
        "id": "m1Jz-o65hvp6"
      }
    },
    {
      "cell_type": "markdown",
      "source": [
        "\n",
        "Representation of correlation values in a color-coded way."
      ],
      "metadata": {
        "id": "CRZmW2bbh8MU"
      }
    },
    {
      "cell_type": "code",
      "source": [
        "import matplotlib.pyplot as plt\n",
        "import seaborn as sns\n",
        "\n",
        "sns.heatmap(df.corr(), annot= True)"
      ],
      "metadata": {
        "id": "gn7YguR5h5ut"
      },
      "execution_count": null,
      "outputs": []
    }
  ]
}